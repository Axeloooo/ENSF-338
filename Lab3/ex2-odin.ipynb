{
 "cells": [
  {
   "attachments": {},
   "cell_type": "markdown",
   "metadata": {},
   "source": [
    "# Fixed size Arrays in Python\n",
    "List in Python are dynamic Arrays, meaning they can easily change size when you add elements or evendelete them. This is similar to the behavior of Dynamic arrays in C, Vectors in C and Java. But Python Base implementation does not support Fixed Size arrays\\\n",
    "In the next code section, we will use numpy arrays as they provide fixed size arrays to implement the behavior of a dynamic array.\\\n",
    "To acheive this:\n",
    "1. Create an array of predetermined size\n",
    "2. Maintain 2 variables\n",
    "    - length: number of populated elements in array\n",
    "    - Size: number of total elements in array\n",
    "3. In a loop:\n",
    "    - Prompt user for value to insert, and position of insertion\n",
    "    - If length is less than size, do the insertion - do not forgot to do shifting if needed\n",
    "    - if length is equal to size, a larger array needs to be created, the old array will then be copied to the new array, and finally the insertion is done\n",
    "    - Prompt the user if they want to insert more data, Yes takes you back to begining of loop, and No breaks and eand the program"
   ]
  },
  {
   "cell_type": "code",
   "execution_count": 4,
   "metadata": {},
   "outputs": [],
   "source": [
    "# 1,2\n",
    "\n",
    "import numpy as np\n",
    "\n",
    "class MyArray:\n",
    "    def __init__(self, size):\n",
    "        self.size = size\n",
    "        self.data = np.zeros(size)\n",
    "        self.length = 0"
   ]
  },
  {
   "cell_type": "code",
   "execution_count": 5,
   "metadata": {},
   "outputs": [],
   "source": [
    "# 3 - implement the append method\n",
    "\n",
    "class MyArray:\n",
    "    def __init__(self, size):\n",
    "        self.size = size\n",
    "        self.data = np.zeros(size)\n",
    "        self.length = 0\n",
    "\n",
    "    def append(self, value):\n",
    "        if self.length < self.size:\n",
    "            self.data[self.length] = value\n",
    "            self.length += 1\n",
    "        else:\n",
    "            newdata = np.zeros(self.size * 2)\n",
    "            for i in range(self.size):\n",
    "                newdata[i] = self.data[i]\n",
    "            self.data = newdata\n",
    "            self.size *= 2\n",
    "            self.data[self.length] = value\n",
    "            self.length += 1"
   ]
  },
  {
   "cell_type": "code",
   "execution_count": 6,
   "metadata": {},
   "outputs": [
    {
     "name": "stdout",
     "output_type": "stream",
     "text": [
      "[0. 0. 0. 0. 0.] 1 5\n",
      "[0. 1. 0. 0. 0.] 2 5\n",
      "[0. 1. 2. 0. 0.] 3 5\n",
      "[0. 1. 2. 3. 0.] 4 5\n",
      "[0. 1. 2. 3. 4.] 5 5\n",
      "[0. 1. 2. 3. 4. 6. 0. 0. 0. 0.] 6 10\n",
      "[0. 1. 2. 3. 4. 6. 7. 0. 0. 0.] 7 10\n",
      "[0. 1. 2. 3. 4. 6. 7. 8. 0. 0.] 8 10\n",
      "[0. 1. 2. 3. 4. 6. 7. 8. 8. 0.] 9 10\n",
      "[0. 1. 2. 3. 4. 6. 7. 8. 8. 9.] 10 10\n",
      "[ 0.  1.  2.  3.  4.  6.  7.  8.  8.  9. 10.  0.  0.  0.  0.  0.  0.  0.\n",
      "  0.  0.] 11 20\n"
     ]
    },
    {
     "ename": "ValueError",
     "evalue": "could not convert string to float: 'blah'",
     "output_type": "error",
     "traceback": [
      "\u001b[0;31m---------------------------------------------------------------------------\u001b[0m",
      "\u001b[0;31mValueError\u001b[0m                                Traceback (most recent call last)",
      "Cell \u001b[0;32mIn[6], line 10\u001b[0m\n\u001b[1;32m      8\u001b[0m     done \u001b[39m=\u001b[39m \u001b[39mTrue\u001b[39;00m\n\u001b[1;32m      9\u001b[0m \u001b[39melse\u001b[39;00m:\n\u001b[0;32m---> 10\u001b[0m     myarray\u001b[39m.\u001b[39mappend(\u001b[39mfloat\u001b[39;49m(value))\n\u001b[1;32m     11\u001b[0m \u001b[39mprint\u001b[39m(myarray\u001b[39m.\u001b[39mdata, myarray\u001b[39m.\u001b[39mlength, myarray\u001b[39m.\u001b[39msize)\n",
      "\u001b[0;31mValueError\u001b[0m: could not convert string to float: 'blah'"
     ]
    }
   ],
   "source": [
    "# 3 - loop requesting user input\n",
    "\n",
    "myarray = MyArray(5)\n",
    "done = False\n",
    "while not done:\n",
    "    value = input(\"Enter a value: \")\n",
    "    if value == \"done\":\n",
    "        done = True\n",
    "    else:\n",
    "        myarray.append(float(value))\n",
    "    print(myarray.data, myarray.length, myarray.size)"
   ]
  },
  {
   "cell_type": "code",
   "execution_count": null,
   "metadata": {},
   "outputs": [],
   "source": []
  }
 ],
 "metadata": {
  "kernelspec": {
   "display_name": "base",
   "language": "python",
   "name": "python3"
  },
  "language_info": {
   "codemirror_mode": {
    "name": "ipython",
    "version": 3
   },
   "file_extension": ".py",
   "mimetype": "text/x-python",
   "name": "python",
   "nbconvert_exporter": "python",
   "pygments_lexer": "ipython3",
   "version": "3.9.12"
  },
  "orig_nbformat": 4,
  "vscode": {
   "interpreter": {
    "hash": "40d3a090f54c6569ab1632332b64b2c03c39dcf918b08424e98f38b5ae0af88f"
   }
  }
 },
 "nbformat": 4,
 "nbformat_minor": 2
}
