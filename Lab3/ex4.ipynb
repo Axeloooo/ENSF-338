{
 "cells": [
  {
   "attachments": {},
   "cell_type": "markdown",
   "metadata": {},
   "source": [
    "# Exercise 4: Arrays vs Lists\n",
    "\n",
    "1. Use the basic list implementation (optimized for tail insertion) from the previous exercises\n",
    "2. Use the basic dynamic array implementation from last week"
   ]
  },
  {
   "cell_type": "code",
   "execution_count": null,
   "metadata": {},
   "outputs": [],
   "source": [
    "# List optimized for tail insertion\n",
    "\n",
    "class MyListNode:\n",
    "    def __init__(self, val):\n",
    "        self.val = val\n",
    "        self.next = None\n",
    "\n",
    "class MyList:\n",
    "    def __init__(self):\n",
    "        self.head = None\n",
    "        self.tail = None\n",
    "        self.size = 0\n",
    "\n",
    "    def append(self, val):\n",
    "        if self.head is None:\n",
    "            self.head = MyListNode(val)\n",
    "            self.tail = self.head\n",
    "        else:\n",
    "            self.tail.next = MyListNode(val)\n",
    "            self.tail = self.tail.next\n",
    "        self.size += 1\n",
    "\n",
    "    def getListHead(self):\n",
    "        return self.head\n",
    "\n",
    "    def getNextNode(self, node):\n",
    "        return node.next\n",
    "\n",
    "    def getLastNode(self):\n",
    "        return self.tail"
   ]
  },
  {
   "cell_type": "code",
   "execution_count": null,
   "metadata": {},
   "outputs": [],
   "source": [
    "# 2 Dynamic array\n",
    "\n",
    "import numpy as np\n",
    "\n",
    "class MyArray:\n",
    "    def __init__(self):\n",
    "        self.size = 10\n",
    "        self.data = np.zeros(10)\n",
    "        self.length = 0\n",
    "\n",
    "    def append(self, value):\n",
    "        if self.length < self.size:\n",
    "            self.data[self.length] = value\n",
    "            self.length += 1\n",
    "        else:\n",
    "            newdata = np.zeros(self.size * 2)\n",
    "            for i in range(self.size):\n",
    "                newdata[i] = self.data[i]\n",
    "            self.data = newdata\n",
    "            self.size *= 2\n",
    "            self.data[self.length] = value\n",
    "            self.length += 1"
   ]
  },
  {
   "attachments": {},
   "cell_type": "markdown",
   "metadata": {},
   "source": [
    "3. Time insertion of 100,000 elements at the end of the list and array\n",
    "4. Compare and comment the results"
   ]
  },
  {
   "cell_type": "code",
   "execution_count": null,
   "metadata": {},
   "outputs": [],
   "source": [
    "import timeit\n",
    "\n",
    "def insertInList(l):\n",
    "    for i in range(100000):\n",
    "        l.append(i)\n",
    "        \n",
    "def insertInArray(a):\n",
    "    for i in range(100000):\n",
    "        a.append(i)\n",
    "\n",
    "rl = timeit.repeat(\"insertInList(l)\", setup=\"l = MyList()\", globals={'MyList':MyList, 'insertInList':insertInList}, number=1, repeat=100)\n",
    "ra = timeit.repeat(\"insertInArray(a)\", setup=\"a = MyArray()\", globals={'MyArray':MyArray, 'insertInArray':insertInArray}, number=1, repeat=100)"
   ]
  },
  {
   "cell_type": "code",
   "execution_count": null,
   "metadata": {},
   "outputs": [],
   "source": [
    "from matplotlib import pyplot as plt\n",
    "\n",
    "plt.hist(rl, bins=20, alpha=0.5, color='blue', label='list')\n",
    "plt.hist(ra, bins=20, alpha=0.5, color='red', label='array')"
   ]
  },
  {
   "cell_type": "code",
   "execution_count": null,
   "metadata": {},
   "outputs": [],
   "source": [
    "min(rl), min(ra)"
   ]
  }
 ],
 "metadata": {
  "kernelspec": {
   "display_name": "base",
   "language": "python",
   "name": "python3"
  },
  "language_info": {
   "codemirror_mode": {
    "name": "ipython",
    "version": 3
   },
   "file_extension": ".py",
   "mimetype": "text/x-python",
   "name": "python",
   "nbconvert_exporter": "python",
   "pygments_lexer": "ipython3",
   "version": "3.8.3"
  },
  "orig_nbformat": 4,
  "vscode": {
   "interpreter": {
    "hash": "b8d8e621e6862c30af44f8e56c18e14fcdd139c3d6eeac4d668e658743949c31"
   }
  }
 },
 "nbformat": 4,
 "nbformat_minor": 2
}
