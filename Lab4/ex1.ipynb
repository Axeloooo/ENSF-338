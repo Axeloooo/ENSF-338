{
 "cells": [
  {
   "attachments": {},
   "cell_type": "markdown",
   "metadata": {},
   "source": [
    "# Exercise 1: Linking it all together\n",
    "\n",
    "1. Implement a basic linked list. It should have the ability to add nodes, to retrieve the list's head, and to get the successor of a node"
   ]
  },
  {
   "cell_type": "code",
   "execution_count": 2,
   "metadata": {},
   "outputs": [],
   "source": [
    "# 1. The code below implements a barebone linked list (by cutting some corners)\n",
    "\n",
    "class ListNode:\n",
    "    def __init__(self, val):\n",
    "        self.val = val\n",
    "        self.next = None\n",
    "\n",
    "class List:\n",
    "    def __init__(self):\n",
    "        self.head = None\n",
    "        self.size = 0\n",
    "\n",
    "    def append(self, val):\n",
    "        if self.head is None:\n",
    "            self.head = ListNode(val)\n",
    "        else:\n",
    "            node = self.head\n",
    "            while node.next is not None:\n",
    "                node = node.next\n",
    "            node.next = ListNode(val)\n",
    "        self.size += 1\n",
    "\n",
    "    def getListHead(self):\n",
    "        return self.head\n",
    "\n",
    "    def getNextNode(self, node):\n",
    "        return node.next\n",
    "\n",
    "    def getLastNode(self):\n",
    "        node = self.head\n",
    "        while node.next is not None:\n",
    "            node = node.next\n",
    "        return node"
   ]
  },
  {
   "cell_type": "code",
   "execution_count": null,
   "metadata": {},
   "outputs": [],
   "source": [
    "# Example of use:\n",
    "\n",
    "myList = List()\n",
    "myList.append(1)\n",
    "myList.append(2)\n",
    "myList.append(3)\n",
    "next = myList.getListHead()\n",
    "while next:\n",
    "    print(next.val)\n",
    "    next = myList.getNextNode(next)"
   ]
  },
  {
   "attachments": {},
   "cell_type": "markdown",
   "metadata": {},
   "source": [
    "2. Improve the performance of the list for the case where an element is appended at the end of the list. This should be done by keeping a reference to the last element of the list."
   ]
  },
  {
   "cell_type": "code",
   "execution_count": 1,
   "metadata": {},
   "outputs": [],
   "source": [
    "# List optimized for tail insertion\n",
    "\n",
    "class ListNode:\n",
    "    def __init__(self, val):\n",
    "        self.val = val\n",
    "        self.next = None\n",
    "\n",
    "class List:\n",
    "    def __init__(self):\n",
    "        self.head = None\n",
    "        self.tail = None\n",
    "        self.size = 0\n",
    "\n",
    "    def append(self, val):\n",
    "        if self.head is None:\n",
    "            self.head = ListNode(val)\n",
    "            self.tail = self.head\n",
    "        else:\n",
    "            self.tail.next = ListNode(val)\n",
    "            self.tail = self.tail.next\n",
    "        self.size += 1\n",
    "\n",
    "    def getListHead(self):\n",
    "        return self.head\n",
    "\n",
    "    def getNextNode(self, node):\n",
    "        return node.next\n",
    "\n",
    "    def getLastNode(self):\n",
    "        return self.tail"
   ]
  },
  {
   "attachments": {},
   "cell_type": "markdown",
   "metadata": {},
   "source": [
    "3. Extend the list to a doubly-linked list"
   ]
  },
  {
   "cell_type": "code",
   "execution_count": null,
   "metadata": {},
   "outputs": [],
   "source": [
    "# 2. Doubly-linked list\n",
    "\n",
    "class ListNode:\n",
    "    def __init__(self, val):\n",
    "        self.val = val\n",
    "        self.next = None\n",
    "        self.prev = None\n",
    "\n",
    "class List:\n",
    "    def __init__(self):\n",
    "        self.head = None\n",
    "        self.tail = None\n",
    "        self.size = 0\n",
    "\n",
    "    def append(self, val):\n",
    "        if self.head is None:\n",
    "            self.head = ListNode(val)\n",
    "            self.tail = self.head\n",
    "        else:\n",
    "            self.tail.next = ListNode(val)\n",
    "            self.tail.next.prev = self.tail\n",
    "            self.tail = self.tail.next\n",
    "        self.size += 1\n",
    "\n",
    "    def getListHead(self):\n",
    "        return self.head\n",
    "\n",
    "    def getNextNode(self, node):\n",
    "        return node.next\n",
    "\n",
    "    def getLastNode(self):\n",
    "        return self.tail\n",
    "\n",
    "    def getPrevNode(self, node):\n",
    "        return node.prev"
   ]
  }
 ],
 "metadata": {
  "kernelspec": {
   "display_name": "base",
   "language": "python",
   "name": "python3"
  },
  "language_info": {
   "codemirror_mode": {
    "name": "ipython",
    "version": 3
   },
   "file_extension": ".py",
   "mimetype": "text/x-python",
   "name": "python",
   "nbconvert_exporter": "python",
   "pygments_lexer": "ipython3",
   "version": "3.8.3"
  },
  "orig_nbformat": 4,
  "vscode": {
   "interpreter": {
    "hash": "b8d8e621e6862c30af44f8e56c18e14fcdd139c3d6eeac4d668e658743949c31"
   }
  }
 },
 "nbformat": 4,
 "nbformat_minor": 2
}
