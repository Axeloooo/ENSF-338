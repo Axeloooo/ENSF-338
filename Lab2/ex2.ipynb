{
 "cells": [
  {
   "attachments": {},
   "cell_type": "markdown",
   "metadata": {},
   "source": [
    "# Exercise 2: Heads or Tails?\n",
    "\n",
    "1. Take the implementation of a basic linked list, created during the previous exercise"
   ]
  },
  {
   "cell_type": "code",
   "execution_count": 1,
   "metadata": {},
   "outputs": [],
   "source": [
    "# 1. The code below implements a barebone linked list (by cutting some corners)\n",
    "\n",
    "class ListNode:\n",
    "    def __init__(self, val):\n",
    "        self.val = val\n",
    "        self.next = None\n",
    "\n",
    "class List:\n",
    "    def __init__(self):\n",
    "        self.head = None\n",
    "        self.size = 0\n",
    "\n",
    "    def append(self, val):\n",
    "        if self.head is None:\n",
    "            self.head = ListNode(val)\n",
    "        else:\n",
    "            node = self.head\n",
    "            while node.next is not None:\n",
    "                node = node.next\n",
    "            node.next = ListNode(val)\n",
    "        self.size += 1\n",
    "\n",
    "    def getListHead(self):\n",
    "        return self.head\n",
    "\n",
    "    def getNextNode(self, node):\n",
    "        return node.next\n",
    "\n",
    "    def getLastNode(self):\n",
    "        node = self.head\n",
    "        while node.next is not None:\n",
    "            node = node.next\n",
    "        return node"
   ]
  },
  {
   "attachments": {},
   "cell_type": "markdown",
   "metadata": {},
   "source": [
    "2. Extend the list to a circular list"
   ]
  },
  {
   "cell_type": "code",
   "execution_count": null,
   "metadata": {},
   "outputs": [],
   "source": [
    "# 2. Circular list\n",
    "\n",
    "class ListNode:\n",
    "    def __init__(self, val):\n",
    "        self.val = val\n",
    "        self.next = None\n",
    "\n",
    "class List:\n",
    "    def __init__(self):\n",
    "        self.head = None\n",
    "        self.size = 0\n",
    "\n",
    "    def append(self, val):\n",
    "        if self.head == None:\n",
    "            self.head = ListNode(val)\n",
    "            self.head.next = self.head\n",
    "        else:\n",
    "            node = self.head\n",
    "            while node.next != self.head:\n",
    "                node = node.next\n",
    "            node.next = ListNode(val)\n",
    "            node.next.next = self.head\n",
    "        self.size += 1\n",
    "\n",
    "    def getListHead(self):\n",
    "        return self.head\n",
    "    \n",
    "    def getNextNode(self, node):\n",
    "        return node.next\n",
    "\n",
    "    def getLastNode(self):\n",
    "        node = self.head\n",
    "        while node.next is not None:\n",
    "            node = node.next\n",
    "        return node"
   ]
  },
  {
   "attachments": {},
   "cell_type": "markdown",
   "metadata": {},
   "source": [
    "3. Fix the error :-)"
   ]
  },
  {
   "cell_type": "code",
   "execution_count": null,
   "metadata": {},
   "outputs": [],
   "source": [
    "# 2. Circular list\n",
    "\n",
    "class ListNode:\n",
    "    def __init__(self, val):\n",
    "        self.val = val\n",
    "        self.next = None\n",
    "\n",
    "class List:\n",
    "    def __init__(self):\n",
    "        self.head = None\n",
    "        self.size = 0\n",
    "\n",
    "    def append(self, val):\n",
    "        if self.head == None:\n",
    "            self.head = ListNode(val)\n",
    "            self.head.next = self.head\n",
    "        else:\n",
    "            node = self.head\n",
    "            while node.next != self.head:\n",
    "                node = node.next\n",
    "            node.next = ListNode(val)\n",
    "            node.next.next = self.head\n",
    "        self.size += 1\n",
    "\n",
    "    def getListHead(self):\n",
    "        return self.head\n",
    "    \n",
    "    def getNextNode(self, node):\n",
    "        return node.next\n",
    "\n",
    "    def getLastNode(self):\n",
    "        node = self.head\n",
    "        while node.next != self.head:\n",
    "            node = node.next\n",
    "        return node"
   ]
  }
 ],
 "metadata": {
  "kernelspec": {
   "display_name": "base",
   "language": "python",
   "name": "python3"
  },
  "language_info": {
   "codemirror_mode": {
    "name": "ipython",
    "version": 3
   },
   "file_extension": ".py",
   "mimetype": "text/x-python",
   "name": "python",
   "nbconvert_exporter": "python",
   "pygments_lexer": "ipython3",
   "version": "3.8.3"
  },
  "orig_nbformat": 4,
  "vscode": {
   "interpreter": {
    "hash": "b8d8e621e6862c30af44f8e56c18e14fcdd139c3d6eeac4d668e658743949c31"
   }
  }
 },
 "nbformat": 4,
 "nbformat_minor": 2
}
