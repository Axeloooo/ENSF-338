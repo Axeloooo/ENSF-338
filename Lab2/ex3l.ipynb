{
 "cells": [
  {
   "attachments": {},
   "cell_type": "markdown",
   "metadata": {},
   "source": [
    "### When implementing the Bubble sort in the lecture, we have concluded that the best, average, and worst case complexity remains $n^{2}$.\n",
    "What are some suggestions to improve the performance of Bubble Sort (if any)?\\\n",
    "1- Can we improve the worst case performace?\\\n",
    "2- Can we Improve the average case performance?\\\n",
    "3- Can we improve the best case performance?\n",
    " "
   ]
  },
  {
   "attachments": {},
   "cell_type": "markdown",
   "metadata": {},
   "source": [
    "Let's start by looking at the algo:"
   ]
  },
  {
   "cell_type": "code",
   "execution_count": null,
   "metadata": {},
   "outputs": [],
   "source": [
    "def bubble_sort(arr):\n",
    "  n = len(arr)\n",
    "  for i in range(n):\n",
    "    for j in range(0, n-i-1):\n",
    "      if arr[j] > arr[j+1]:\n",
    "        temp = arr[j]\n",
    "        arr[j] = arr[j+1]\n",
    "        arr[j+1] = temp\n",
    "  return arr"
   ]
  },
  {
   "attachments": {},
   "cell_type": "markdown",
   "metadata": {},
   "source": [
    "### Deriving the number of comparisons/1\n",
    "\n",
    "First, let's recall why worst case complexity is $n^2$.\n",
    "#### Number of comparisons:\n",
    "1. In the first execution of the outer loop, the inner loop runs $n-1$ times...\n",
    "2. ... then $n-2$ times ...\n",
    "3. ... then $n-3$ times ...\n",
    "4. all the way to 0.\n",
    "\n",
    "So, we have $1 + 2 + ... + (n-1) = \\sum_{i=1}^{n-1}(i)$. Can we use the same trick Gauss used to find a closed-form expression?"
   ]
  },
  {
   "attachments": {},
   "cell_type": "markdown",
   "metadata": {},
   "source": [
    "### Deriving the number of comparisons/2\n",
    "\n",
    "$2*\\sum_{i=1}^{n-1}(i) = $\n",
    "\n",
    "$1 + 2 + ... + (n-1) + (n-1) + ... + 2 + 1 = $\n",
    "\n",
    "$1 + (n-1) + 2 + (n-2) + ... = $\n",
    "\n",
    "$n(n-1)$\n",
    "\n",
    "Thus, $\\sum_{i=1}^{n-1}(i) = \\frac{n(n-1)}{2}$\n",
    "\n",
    "So, number of comparisons is always $O(n^2)$. What about number of swaps?"
   ]
  },
  {
   "attachments": {},
   "cell_type": "markdown",
   "metadata": {},
   "source": [
    "### Deriving the number of swaps\n",
    "\n",
    "* Worst case: a swap for every comparison (array in reverse order). Number of swaps is $O(n^2)$.\n",
    "    + Complexity is $O(n^2) + O(n^2) = O(n^2)$\n",
    "* Best case: no swaps (array already sorted). Number of swaps = 0.\n",
    "    + Complexity is $O(n^2) + 0 = O(n^2)$\n",
    "* Average case: half elements need to be swapped. Number of swap is $\\frac{O(n^2)}{2}$, still $O(n^2)$.\n",
    "    + Complexity is $O(n^2) + O(n^2) = O(n^2)$\n",
    "\n",
    "Can we improve any of those?"
   ]
  },
  {
   "attachments": {},
   "cell_type": "markdown",
   "metadata": {},
   "source": [
    "### Reasoning about optimizations\n",
    "\n",
    "* **Best case:** cannot improve, already no swap\n",
    "* **Worst case:** cannot improve, must sort everything\n",
    "* **Can we optimize average case?**"
   ]
  },
  {
   "cell_type": "code",
   "execution_count": null,
   "metadata": {},
   "outputs": [],
   "source": [
    "# Optimization #1\n",
    "\n",
    "# Stop if no swaps are made in an iteration\n",
    "def bubble_sort(arr):\n",
    "    n = len(arr)\n",
    "    for i in range(n):\n",
    "        swapped = False\n",
    "        for j in range(0, n-i-1):\n",
    "            if arr[j] > arr[j+1]:\n",
    "                temp = arr[j]\n",
    "                arr[j] = arr[j+1]\n",
    "                arr[j+1] = temp\n",
    "                swapped = True\n",
    "        if not swapped:\n",
    "            break\n",
    "    return arr"
   ]
  },
  {
   "cell_type": "code",
   "execution_count": null,
   "metadata": {},
   "outputs": [],
   "source": [
    "# Optimization #2\n",
    "\n",
    "# Keep track of the last swap\n",
    "\n",
    "def bubble_sort(arr):\n",
    "    n = len(arr)\n",
    "    for i in range(n):\n",
    "        swapped = False\n",
    "        last_swap = 0\n",
    "        for j in range(0, n-i-1):\n",
    "            if arr[j] > arr[j+1]:\n",
    "                temp = arr[j]\n",
    "                arr[j] = arr[j+1]\n",
    "                arr[j+1] = temp\n",
    "                swapped = True\n",
    "                last_swap = j\n",
    "        if not swapped:\n",
    "            break\n",
    "        n = last_swap\n",
    "    return arr"
   ]
  },
  {
   "cell_type": "markdown",
   "metadata": {},
   "source": []
  }
 ],
 "metadata": {
  "kernelspec": {
   "display_name": "base",
   "language": "python",
   "name": "python3"
  },
  "language_info": {
   "name": "python",
   "version": "3.9.12"
  },
  "orig_nbformat": 4,
  "vscode": {
   "interpreter": {
    "hash": "40d3a090f54c6569ab1632332b64b2c03c39dcf918b08424e98f38b5ae0af88f"
   }
  }
 },
 "nbformat": 4,
 "nbformat_minor": 2
}
