{
 "cells": [
  {
   "attachments": {},
   "cell_type": "markdown",
   "id": "911ca0d3-f374-4e41-b195-c13e4c2ff4cc",
   "metadata": {},
   "source": [
    "# Exercise 1\n",
    "\n",
    "## List comprehension\n",
    "\n",
    "1. Write recursive code to generate the n-th Fibonacci number\n",
    "2. Generate the first 35 Fibonacci numbers using a loop\n",
    "3. Generate the first 35 Fibonacci numbers using list comprehension\n",
    "4. Using list comprehension, filter all odd numbers out of the previous list\n",
    "5. Using list comprehension, divide numbers < 1000 by 2, and numbers >= 1000 by 3"
   ]
  },
  {
   "cell_type": "code",
   "execution_count": 4,
   "id": "5b81f43a-2514-4415-83b8-a356bf1f2147",
   "metadata": {},
   "outputs": [],
   "source": [
    "# 1. Write recursive code to generate the n-th Fibonacci number\n",
    "\n",
    "def fib(n):\n",
    "    if n == 0 or n == 1:\n",
    "        return n\n",
    "    else:\n",
    "        return fib(n-2) + fib(n-1)"
   ]
  },
  {
   "cell_type": "code",
   "execution_count": 3,
   "id": "822c247e-7647-44ea-9e8e-02d61cebd63f",
   "metadata": {},
   "outputs": [],
   "source": [
    "# 2. Generate the first 35 Fibonacci numbers using a loop\n",
    "mylist = []\n",
    "for i in range(35):\n",
    "    mylist.append(fib(i))"
   ]
  },
  {
   "cell_type": "code",
   "execution_count": null,
   "id": "3bb001c1-0c6d-495e-bdfb-53278d724e1f",
   "metadata": {},
   "outputs": [],
   "source": [
    "# 3. Generate the first 35 Fibonacci numbers using list comprehension\n",
    "mylist2 = [fib(i) for i in range(35)]\n",
    "mylist2"
   ]
  },
  {
   "cell_type": "code",
   "execution_count": null,
   "id": "fe683985-909a-4b49-ad3e-292e2d3baa57",
   "metadata": {},
   "outputs": [],
   "source": [
    "# 4. Using list comprehension, filter all odd numbers out of the previous list\n",
    "mylist3 = [i for i in mylist2 if i%2 == 0]\n",
    "mylist3"
   ]
  },
  {
   "cell_type": "code",
   "execution_count": null,
   "id": "606aaa7f-c4a1-44be-a64e-4e88a417698b",
   "metadata": {},
   "outputs": [],
   "source": [
    "# 5. Using list comprehension, divide numbers < 1000 by 2, and numbers >= 1000 by 3\n",
    "mylist4 = [i/2 if i < 1000 else i/3 for i in mylist3]\n",
    "mylist4"
   ]
  }
 ],
 "metadata": {
  "kernelspec": {
   "display_name": "base",
   "language": "python",
   "name": "python3"
  },
  "language_info": {
   "codemirror_mode": {
    "name": "ipython",
    "version": 3
   },
   "file_extension": ".py",
   "mimetype": "text/x-python",
   "name": "python",
   "nbconvert_exporter": "python",
   "pygments_lexer": "ipython3",
   "version": "3.9.12"
  },
  "vscode": {
   "interpreter": {
    "hash": "40d3a090f54c6569ab1632332b64b2c03c39dcf918b08424e98f38b5ae0af88f"
   }
  }
 },
 "nbformat": 4,
 "nbformat_minor": 5
}
