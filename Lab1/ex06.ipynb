{
 "cells": [
  {
   "cell_type": "markdown",
   "metadata": {},
   "source": [
    "# Exercise 6\n",
    "\n",
    "## Timing code\n",
    "\n",
    "This example defines a simple function test_function which returns the squares of the numbers from 0 to 999.\n",
    "\n",
    "1. Use the timeit function to time how long it takes to run this function 1000 times.\n",
    "2. Show the average timing results in seconds."
   ]
  },
  {
   "cell_type": "code",
   "execution_count": null,
   "metadata": {},
   "outputs": [],
   "source": [
    "# Define a function to be timed\n",
    "def test_function():\n",
    "    return [i**2 for i in range(1000)]\n",
    "\n",
    "# Time the function using timeit\n",
    "\n",
    "\n",
    "# Print the results\n"
   ]
  },
  {
   "cell_type": "code",
   "execution_count": null,
   "metadata": {},
   "outputs": [],
   "source": [
    "# 1. Use the timeit function to time how long it takes to run this function 1000 times.\n",
    "\n",
    "import timeit\n",
    "\n",
    "def test_function():\n",
    "    return [i**2 for i in range(1000)]\n",
    "\n",
    "timeit.timeit(test_function, number=1000)"
   ]
  },
  {
   "cell_type": "code",
   "execution_count": null,
   "metadata": {},
   "outputs": [],
   "source": [
    "# 2. Show the timing results in seconds.\n",
    "\n",
    "import timeit\n",
    "\n",
    "def test_function():\n",
    "    return [i**2 for i in range(1000)]\n",
    "\n",
    "rez = timeit.timeit(test_function, number=1000)\n",
    "\n",
    "print(\"Time per statement in seconds\", rez/1000.0)"
   ]
  }
 ],
 "metadata": {
  "kernelspec": {
   "display_name": "base",
   "language": "python",
   "name": "python3"
  },
  "language_info": {
   "codemirror_mode": {
    "name": "ipython",
    "version": 3
   },
   "file_extension": ".py",
   "mimetype": "text/x-python",
   "name": "python",
   "nbconvert_exporter": "python",
   "pygments_lexer": "ipython3",
   "version": "3.9.12"
  },
  "vscode": {
   "interpreter": {
    "hash": "40d3a090f54c6569ab1632332b64b2c03c39dcf918b08424e98f38b5ae0af88f"
   }
  }
 },
 "nbformat": 4,
 "nbformat_minor": 4
}
