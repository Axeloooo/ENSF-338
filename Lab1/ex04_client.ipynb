{
 "cells": [
  {
   "cell_type": "code",
   "execution_count": null,
   "metadata": {},
   "outputs": [],
   "source": [
    "import socket\n",
    "import json\n",
    "\n",
    "data = {'numerator':10.0}\n",
    "formatteddata = json.dumps(data)\n",
    "bytedata = formatteddata.encode('utf-8')\n",
    "s = socket.socket(socket.AF_INET, socket.SOCK_STREAM)\n",
    "s.connect(('localhost', 8080))\n",
    "s.sendall(bytedata)\n",
    "data = s.recv(1024)\n",
    "print(data.decode('utf-8'))"
   ]
  }
 ],
 "metadata": {
  "kernelspec": {
   "display_name": "base",
   "language": "python",
   "name": "python3"
  },
  "language_info": {
   "codemirror_mode": {
    "name": "ipython",
    "version": 3
   },
   "file_extension": ".py",
   "mimetype": "text/x-python",
   "name": "python",
   "nbconvert_exporter": "python",
   "pygments_lexer": "ipython3",
   "version": "3.9.12 (main, Apr  5 2022, 01:52:34) \n[Clang 12.0.0 ]"
  },
  "vscode": {
   "interpreter": {
    "hash": "b8d8e621e6862c30af44f8e56c18e14fcdd139c3d6eeac4d668e658743949c31"
   }
  }
 },
 "nbformat": 4,
 "nbformat_minor": 4
}
