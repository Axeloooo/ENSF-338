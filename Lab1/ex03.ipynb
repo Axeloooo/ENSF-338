{
 "cells": [
  {
   "attachments": {},
   "cell_type": "markdown",
   "id": "190f144d-309e-4f23-8a28-7a01f5d6bcc2",
   "metadata": {},
   "source": [
    "# Exercise 3\n",
    "\n",
    "## Simple Python wrap-up\n",
    "\n",
    "Consider the JSON file at the following URL:\n",
    "\n",
    "```\n",
    "https://raw.githubusercontent.com/ldklab/ensf338w23/main/labs/lab01/lab03data.json\n",
    "```\n",
    "\n",
    "First, download the file on your machine. Then, produce a Python program that does the following:\n",
    "\n",
    "1. Load the JSON file into a variable.\n",
    "2. Look at the first record in the file and determine the structure of that record.\n",
    "3. All the records in the file have the same structure, except for one. Find that record.\n",
    "4. Modify that record so that it has the same structure as other records in the file.\n",
    "5. Save the entire file back with a different name"
   ]
  },
  {
   "cell_type": "code",
   "execution_count": null,
   "id": "997fed29-1f10-42bb-a8a3-7041b4304af8",
   "metadata": {},
   "outputs": [],
   "source": [
    "# 1. Load the file into a variable\n",
    "\n",
    "import json\n",
    "\n",
    "with open('lab03data.json', 'r') as inF:\n",
    "    content = json.load(inF)\n"
   ]
  },
  {
   "cell_type": "code",
   "execution_count": null,
   "id": "166d56ef-e057-46ae-9f20-e5f0b3abc729",
   "metadata": {},
   "outputs": [],
   "source": [
    "# 2. Look at the first record in the file and determine the structure of that record.\n",
    "\n",
    "if len(content) > 0:\n",
    "    field_names = [field for field in content[0]]\n",
    "print(field_names)"
   ]
  },
  {
   "cell_type": "code",
   "execution_count": null,
   "id": "fbd6dae7-06d0-4f70-a537-bbaaf225c305",
   "metadata": {},
   "outputs": [],
   "source": [
    "# 3. All the records in the file have the same structure, except for one. Find that record.\n",
    "\n",
    "for record in content:\n",
    "    curr_field_names = [f for f in record]\n",
    "    if field_names != curr_field_names:\n",
    "        # Find missing fields if any\n",
    "        missing = [f for f in field_names if f not in record]\n",
    "        print(\"Missing fields:\", missing)\n",
    "        # Find extra fields if any\n",
    "        extra = [f for f in record if f not in field_names]\n",
    "        print(\"Extra fields:\", extra)\n",
    "        break\n"
   ]
  },
  {
   "cell_type": "code",
   "execution_count": null,
   "id": "13f0e8ad-c75a-42cf-bd84-9d13346fc361",
   "metadata": {},
   "outputs": [],
   "source": [
    "# 4. Modify that record so that it has the same structure as other records in the file.\n",
    "\n",
    "for e in extra:\n",
    "    del record[e]\n",
    "\n",
    "print(record)"
   ]
  },
  {
   "cell_type": "code",
   "execution_count": null,
   "id": "b7907726-dfc7-423c-b969-b7cdaa15bd12",
   "metadata": {},
   "outputs": [],
   "source": [
    "# 5. Save the entire file back with a different name\n",
    "\n",
    "with open('lab03data_fixed.json', 'w') as outF:\n",
    "    json.dump(content, outF)"
   ]
  }
 ],
 "metadata": {
  "kernelspec": {
   "display_name": "base",
   "language": "python",
   "name": "python3"
  },
  "language_info": {
   "codemirror_mode": {
    "name": "ipython",
    "version": 3
   },
   "file_extension": ".py",
   "mimetype": "text/x-python",
   "name": "python",
   "nbconvert_exporter": "python",
   "pygments_lexer": "ipython3",
   "version": "3.9.12"
  },
  "vscode": {
   "interpreter": {
    "hash": "40d3a090f54c6569ab1632332b64b2c03c39dcf918b08424e98f38b5ae0af88f"
   }
  }
 },
 "nbformat": 4,
 "nbformat_minor": 5
}
