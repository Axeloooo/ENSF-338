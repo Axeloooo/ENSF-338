{
 "cells": [
  {
   "cell_type": "markdown",
   "metadata": {},
   "source": [
    "# Exercise 2: running around\n",
    "\n",
    "In this exercise, we are going to implement a circular queue. A circular queue is a queue that uses a fixed-size array, and the front of the queue wraps around to the back of the array when it reaches the end. Requirements:\n",
    "\n",
    "1. The circular queue should provide the following methods:\n",
    "    1. `enqueue` adds an item to the queue\n",
    "    2. `dequeue` removes and returns the front-most item in the queue\n",
    "    3. `peek` just returns the front-most item in the queue without removing it.\n",
    "2. The queue should be implemented using a fixed-size Python array.\n",
    "3. The queue should return a special value (e.g., `None`) if you try to dequeue from an empty queue.\n",
    "4. The queue should return a special value (e.g., `None`) if you try to peek at an empty queue.\n",
    "5. The queue should return a special value (e.g., `None`) if you try to enqueue an item into a full queue."
   ]
  },
  {
   "cell_type": "code",
   "execution_count": 2,
   "metadata": {
    "jupyter": {
     "source_hidden": true
    },
    "tags": []
   },
   "outputs": [],
   "source": [
    "# circular queue implementation\n",
    "class CircularQueue:\n",
    "    def __init__(self, size):\n",
    "        self.size = size\n",
    "        self.queue = [None for i in range(size)]\n",
    "        self.head = self.tail = -1\n",
    "\n",
    "    def enqueue(self, data):\n",
    "        if ((self.tail + 1) % self.size == self.head):\n",
    "            print(\"Queue is full\")\n",
    "        elif (self.head == -1):\n",
    "            print(\"Queue is empty\")\n",
    "            self.head = 0\n",
    "            self.tail = 0\n",
    "            self.queue[self.tail] = data\n",
    "        else:\n",
    "            self.tail = (self.tail + 1) % self.size\n",
    "            self.queue[self.tail] = data\n",
    "\n",
    "    def dequeue(self):\n",
    "        if (self.head == -1):\n",
    "            print(\"Queue is empty\")\n",
    "            return None\n",
    "        elif (self.head == self.tail):\n",
    "            temp = self.queue[self.head]\n",
    "            self.head = -1\n",
    "            self.tail = -1\n",
    "            return temp\n",
    "        else:\n",
    "            temp = self.queue[self.head]\n",
    "            self.head = (self.head + 1) % self.size\n",
    "            return temp\n",
    "\n",
    "    def peek(self):\n",
    "        if (self.head == -1):\n",
    "            print(\"Queue is empty\")\n",
    "        else:\n",
    "          return self.queue[self.head]"
   ]
  },
  {
   "cell_type": "code",
   "execution_count": 3,
   "metadata": {
    "jupyter": {
     "source_hidden": true
    },
    "tags": []
   },
   "outputs": [
    {
     "name": "stdout",
     "output_type": "stream",
     "text": [
      "Dequeue from empty queue\n",
      "Queue is empty\n",
      "None\n",
      "Peek into empty queue\n",
      "Queue is empty\n",
      "None\n",
      "Enqueue 5 elements\n",
      "Queue is empty\n",
      "[1, 2, 3, 4, 5]\n",
      "Try to enqueue into a full queue\n",
      "Queue is full\n",
      "[1, 2, 3, 4, 5]\n",
      "Dequeue 3 elements\n",
      "1\n",
      "2\n",
      "3\n",
      "Enqueue 2 more elements: 6,7\n",
      "Print the queue\n",
      "[6, 7, 3, 4, 5]\n",
      "Dequeue all\n",
      "4\n",
      "5\n",
      "6\n",
      "7\n",
      "Queue is empty\n",
      "None\n"
     ]
    }
   ],
   "source": [
    "# Test\n",
    "\n",
    "# Create a queue of size 5\n",
    "q = CircularQueue(5)\n",
    "\n",
    "print(\"Dequeue from empty queue\")\n",
    "print(q.dequeue())\n",
    "\n",
    "print(\"Peek into empty queue\")\n",
    "print(q.peek())\n",
    "\n",
    "print(\"Enqueue 5 elements\")\n",
    "q.enqueue(1)\n",
    "q.enqueue(2)\n",
    "q.enqueue(3)\n",
    "q.enqueue(4)\n",
    "q.enqueue(5)\n",
    "print(q.queue)\n",
    "\n",
    "print(\"Try to enqueue into a full queue\")\n",
    "q.enqueue(6)\n",
    "print(q.queue)\n",
    "\n",
    "\n",
    "print(\"Dequeue 3 elements\")\n",
    "print(q.dequeue())\n",
    "print(q.dequeue())\n",
    "print(q.dequeue())\n",
    "\n",
    "print(\"Enqueue 2 more elements: 6,7\")\n",
    "q.enqueue(6)\n",
    "q.enqueue(7)\n",
    "\n",
    "print(\"Print the queue\")\n",
    "print(q.queue)\n",
    "\n",
    "print(\"Dequeue all\")\n",
    "print(q.dequeue())\n",
    "print(q.dequeue())\n",
    "print(q.dequeue())\n",
    "print(q.dequeue())\n",
    "print(q.dequeue())"
   ]
  }
 ],
 "metadata": {
  "kernelspec": {
   "display_name": "base",
   "language": "python",
   "name": "python3"
  },
  "language_info": {
   "codemirror_mode": {
    "name": "ipython",
    "version": 3
   },
   "file_extension": ".py",
   "mimetype": "text/x-python",
   "name": "python",
   "nbconvert_exporter": "python",
   "pygments_lexer": "ipython3",
   "version": "3.9.12"
  },
  "vscode": {
   "interpreter": {
    "hash": "40d3a090f54c6569ab1632332b64b2c03c39dcf918b08424e98f38b5ae0af88f"
   }
  }
 },
 "nbformat": 4,
 "nbformat_minor": 4
}
