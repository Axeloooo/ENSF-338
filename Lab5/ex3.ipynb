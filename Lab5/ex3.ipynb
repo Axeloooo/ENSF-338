{
 "cells": [
  {
   "attachments": {},
   "cell_type": "markdown",
   "metadata": {},
   "source": [
    "# Exercise 3: Stacking up\n",
    "\n",
    "1. Reuse the implementation of the basic list created previously"
   ]
  },
  {
   "cell_type": "code",
   "execution_count": null,
   "metadata": {},
   "outputs": [],
   "source": [
    "# 1. The code below implements a barebone linked list (by cutting some corners)\n",
    "\n",
    "class ListNode:\n",
    "    def __init__(self, val):\n",
    "        self.val = val\n",
    "        self.next = None\n",
    "\n",
    "class List:\n",
    "    def __init__(self):\n",
    "        self.head = None\n",
    "        self.size = 0\n",
    "\n",
    "    def append(self, val):\n",
    "        if self.head is None:\n",
    "            self.head = ListNode(val)\n",
    "        else:\n",
    "            node = self.head\n",
    "            while node.next is not None:\n",
    "                node = node.next\n",
    "            node.next = ListNode(val)\n",
    "        self.size += 1\n",
    "\n",
    "    def getListHead(self):\n",
    "        return self.head\n",
    "\n",
    "    def getNextNode(self, node):\n",
    "        return node.next\n",
    "\n",
    "    def getLastNode(self):\n",
    "        node = self.head\n",
    "        while node.next is not None:\n",
    "            node = node.next\n",
    "        return node\n"
   ]
  },
  {
   "attachments": {},
   "cell_type": "markdown",
   "metadata": {},
   "source": [
    "2. Implement a stack using the list. A stack is a data structure that supports the following operations:\n",
    "    1. Push: Add an element to the top of the stack\n",
    "    2. Pop: Remove the element at the top of the stack"
   ]
  },
  {
   "cell_type": "code",
   "execution_count": null,
   "metadata": {},
   "outputs": [],
   "source": [
    "# Stack implementation based on 'List' class above\n",
    "\n",
    "class Stack:\n",
    "    def __init__(self):\n",
    "        self.list = List()\n",
    "\n",
    "    def push(self, val):\n",
    "        node = ListNode(val)\n",
    "        node.next = self.list.head\n",
    "        self.list.head = node\n",
    "        self.list.size += 1\n",
    "\n",
    "    def pop(self):\n",
    "        if self.list.head == None:\n",
    "            return None\n",
    "        else:\n",
    "            val = self.list.head.val\n",
    "            self.list.head = self.list.head.next\n",
    "            self.list.size -= 1\n",
    "            return val\n"
   ]
  },
  {
   "cell_type": "code",
   "execution_count": null,
   "metadata": {},
   "outputs": [],
   "source": [
    "# Examples of use:\n",
    "\n",
    "# Create a stack\n",
    "stack = Stack()\n",
    "\n",
    "# Push some values\n",
    "stack.push(1)\n",
    "stack.push(2)\n",
    "stack.push(3)\n",
    "\n",
    "# Pop some values\n",
    "print(stack.pop())\n",
    "print(stack.pop())\n",
    "print(stack.pop())\n",
    "print(stack.pop())"
   ]
  }
 ],
 "metadata": {
  "kernelspec": {
   "display_name": "base",
   "language": "python",
   "name": "python3"
  },
  "language_info": {
   "codemirror_mode": {
    "name": "ipython",
    "version": 3
   },
   "file_extension": ".py",
   "mimetype": "text/x-python",
   "name": "python",
   "nbconvert_exporter": "python",
   "pygments_lexer": "ipython3",
   "version": "3.8.3"
  },
  "orig_nbformat": 4,
  "vscode": {
   "interpreter": {
    "hash": "b8d8e621e6862c30af44f8e56c18e14fcdd139c3d6eeac4d668e658743949c31"
   }
  }
 },
 "nbformat": 4,
 "nbformat_minor": 2
}
