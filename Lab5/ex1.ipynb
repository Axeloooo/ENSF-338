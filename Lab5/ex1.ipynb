{
 "cells": [
  {
   "cell_type": "markdown",
   "metadata": {},
   "source": [
    "# Exercise 1: put the stack to work\n",
    "\n",
    "Consider a language of arithmetic expressions with the following grammar:\n",
    "\n",
    "```\n",
    "expr ::= expr + expr  \n",
    "       | expr - expr  \n",
    "       | expr * expr  \n",
    "       | expr / expr  \n",
    "       | (expr)  \n",
    "       | {expr}  \n",
    "       | [expr]  \n",
    "       | number  \n",
    "```\n",
    "\n",
    "where number is a floating point number.  For example, the expressions\n",
    "\n",
    "```\n",
    "(1 + 2) * (3 + 4)\n",
    "{(1 + 2) * (3 + 4)}\n",
    "[({1 + 2})]\n",
    "```\n",
    "\n",
    "are valid expressions in this language.\n",
    "\n",
    "Write a stack-based parser that checks that parentheses, braces, and brackets are balanced.  For example, the expression\n",
    "\n",
    "`(1 + 2) * ([3] + 4)`\n",
    "\n",
    "is balanced, but the expression\n",
    "\n",
    "`(1 + 2] * (3 + 4`\n",
    "\n",
    "is not balanced."
   ]
  },
  {
   "cell_type": "code",
   "execution_count": null,
   "metadata": {},
   "outputs": [],
   "source": [
    "# Define a stack class\n",
    "class Stack:\n",
    "    def __init__(self):\n",
    "        self.items = []\n",
    "    def isEmpty(self):\n",
    "        return self.items == []\n",
    "    def push(self, item):\n",
    "        self.items.append(item)\n",
    "    def pop(self):\n",
    "        return self.items.pop()\n",
    "    def peek(self):\n",
    "        return self.items[len(self.items)-1]\n",
    "    def size(self):\n",
    "        return len(self.items)\n",
    "    def __str__(self):\n",
    "        return str(self.items)\n"
   ]
  },
  {
   "cell_type": "code",
   "execution_count": null,
   "metadata": {},
   "outputs": [],
   "source": [
    "# Write a tokenizer function for arithmetic expression\n",
    "def tokenize(expression):\n",
    "  for p in ['(', ')', '[', ']', '{', '}']:\n",
    "    expression = expression.replace(p, f' {p} ')\n",
    "  return expression.split()\n"
   ]
  },
  {
   "cell_type": "code",
   "execution_count": null,
   "metadata": {},
   "outputs": [],
   "source": [
    "# Use the stack and tokenizer to check whether the parentheses are balanced\n",
    "\n",
    "def isBalanced(expression):\n",
    "  s = Stack()\n",
    "  for token in tokenize(expression):\n",
    "    if token in ['(', '[', '{']:\n",
    "      s.push(token)\n",
    "    elif token in [')', ']', '}']:\n",
    "      if s.isEmpty():\n",
    "        return False\n",
    "      p = s.pop()\n",
    "      if p == '(' and token != ')':\n",
    "        return False\n",
    "      if p == '[' and token != ']':\n",
    "        return False\n",
    "      if p == '{' and token != '}':\n",
    "        return False"
   ]
  },
  {
   "cell_type": "code",
   "execution_count": null,
   "metadata": {},
   "outputs": [],
   "source": [
    "# A few tests\n",
    "\n"
   ]
  },
  {
   "cell_type": "code",
   "execution_count": null,
   "metadata": {},
   "outputs": [],
   "source": []
  }
 ],
 "metadata": {
  "kernelspec": {
   "display_name": "base",
   "language": "python",
   "name": "python3"
  },
  "language_info": {
   "codemirror_mode": {
    "name": "ipython",
    "version": 3
   },
   "file_extension": ".py",
   "mimetype": "text/x-python",
   "name": "python",
   "nbconvert_exporter": "python",
   "pygments_lexer": "ipython3",
   "version": "3.9.12"
  },
  "vscode": {
   "interpreter": {
    "hash": "40d3a090f54c6569ab1632332b64b2c03c39dcf918b08424e98f38b5ae0af88f"
   }
  }
 },
 "nbformat": 4,
 "nbformat_minor": 4
}
